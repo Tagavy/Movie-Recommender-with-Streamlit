{
 "cells": [
  {
   "cell_type": "markdown",
   "metadata": {
    "id": "5peNW3rvJf0K"
   },
   "source": [
    "##Preparation"
   ]
  },
  {
   "cell_type": "code",
   "execution_count": 1,
   "metadata": {
    "colab": {
     "base_uri": "https://localhost:8080/"
    },
    "id": "TTvLSKSg6Md1",
    "outputId": "69504bad-0725-474b-ad1a-6e08813e9c8a"
   },
   "outputs": [
    {
     "name": "stdout",
     "output_type": "stream",
     "text": [
      "Requirement already satisfied: movieposters in c:\\users\\olia\\anaconda3\\lib\\site-packages (0.0.7)\n",
      "Requirement already satisfied: lxml<5.0.0,>=4.9.1 in c:\\users\\olia\\anaconda3\\lib\\site-packages (from movieposters) (4.9.2)\n",
      "Requirement already satisfied: beautifulsoup4<5.0.0,>=4.11.1 in c:\\users\\olia\\anaconda3\\lib\\site-packages (from movieposters) (4.11.1)\n",
      "Requirement already satisfied: soupsieve>1.2 in c:\\users\\olia\\anaconda3\\lib\\site-packages (from beautifulsoup4<5.0.0,>=4.11.1->movieposters) (2.3.2.post1)\n"
     ]
    }
   ],
   "source": [
    "#importing libraries and packages\n",
    "!pip3 install movieposters\n",
    "import movieposters as mp\n",
    "import numpy as np\n",
    "import pandas as pd\n",
    "from sklearn.preprocessing import MinMaxScaler\n",
    "from sklearn.metrics.pairwise import cosine_similarity"
   ]
  },
  {
   "cell_type": "code",
   "execution_count": 2,
   "metadata": {
    "id": "0yAMgPQf6cEY"
   },
   "outputs": [],
   "source": [
    "#reading the data\n",
    "url1 = \"https://drive.google.com/file/d/1sc_yJw6Ej7hmS36OIQHl1UX6h6Jq32uN/view?usp=share_link\"\n",
    "path1 = 'https://drive.google.com/uc?export=download&id='+url1.split('/')[-2]\n",
    "movies = pd.read_csv(path1)\n",
    "\n",
    "url2 = \"https://drive.google.com/file/d/1shB74shA6w-rOcHHANDiXkiq4-RO-uyP/view?usp=share_link\"\n",
    "path2 = 'https://drive.google.com/uc?export=download&id='+url2.split('/')[-2]\n",
    "ratings = pd.read_csv(path2)\n",
    "\n",
    "url3 = \"https://drive.google.com/file/d/1Kwuudazbm-jcRIxGO2g3HipoFFRlU17x/view?usp=share_link\"\n",
    "path3 = 'https://drive.google.com/uc?export=download&id='+url3.split('/')[-2]\n",
    "links = pd.read_csv(path3)\n",
    "\n",
    "url4 = \"https://drive.google.com/file/d/1hgwga5-UMVYEM3qpQT_3vlLerJ3_F2B9/view?usp=share_link\"\n",
    "path4 = 'https://drive.google.com/uc?export=download&id='+url4.split('/')[-2]\n",
    "tags = pd.read_csv(path4)"
   ]
  },
  {
   "cell_type": "code",
   "execution_count": 11,
   "metadata": {},
   "outputs": [
    {
     "data": {
      "text/plain": [
       "<bound method Series.unique of 0           1\n",
       "1           1\n",
       "2           1\n",
       "3           1\n",
       "4           1\n",
       "         ... \n",
       "100831    610\n",
       "100832    610\n",
       "100833    610\n",
       "100834    610\n",
       "100835    610\n",
       "Name: userId, Length: 100836, dtype: int64>"
      ]
     },
     "execution_count": 11,
     "metadata": {},
     "output_type": "execute_result"
    }
   ],
   "source": [
    "ratings.userId.unique\n"
   ]
  },
  {
   "cell_type": "markdown",
   "metadata": {
    "id": "PBDOvddDJd0V"
   },
   "source": [
    "#Recommenders"
   ]
  },
  {
   "cell_type": "markdown",
   "metadata": {
    "id": "MUxzvfGxvfx6"
   },
   "source": [
    "##Popularity based for cold start"
   ]
  },
  {
   "cell_type": "code",
   "execution_count": 3,
   "metadata": {
    "colab": {
     "base_uri": "https://localhost:8080/"
    },
    "id": "drOunTrQYX7_",
    "outputId": "bb3156ba-2069-4dad-b459-8a5640211018"
   },
   "outputs": [
    {
     "data": {
      "text/plain": [
       "array(['Adventure', 'Comedy', 'Action', 'Drama', 'Crime', 'Children',\n",
       "       'Mystery', 'Animation', 'Documentary', 'Thriller', 'Horror',\n",
       "       'Fantasy', 'Western', 'Film-Noir', 'Romance', 'Sci-Fi', 'Musical',\n",
       "       'War', 'IMAX'], dtype=object)"
      ]
     },
     "execution_count": 3,
     "metadata": {},
     "output_type": "execute_result"
    }
   ],
   "source": [
    "genres = movies['genres'].str.split(\"|\", expand=True)\n",
    "genre_list = pd.unique(genres[[0, 1, 2, 3, 4, 5, 6]].values.ravel('K')) # flatten the array in the order it appears in the memory\n",
    "fin_genre_list = np.delete(genre_list, np.where(genre_list == '(no genres listed)') | (genre_list == None)) # cleaning\n",
    "fin_genre_list"
   ]
  },
  {
   "cell_type": "code",
   "execution_count": 7,
   "metadata": {
    "id": "2Kb3tkVmveIK"
   },
   "outputs": [],
   "source": [
    "def pop_rec(genre, year, n_output):\n",
    "\n",
    "    scaler = MinMaxScaler()\n",
    "    rating_df = pd.DataFrame(ratings.groupby('movieId')['rating'].mean()) # group movies and get their avarage rating\n",
    "    rating_df['rating_count'] = ratings.groupby('movieId')['rating'].count() # get rating count of each movie(how many times each movie was rated)\n",
    "    scaled_df = pd.DataFrame(scaler.fit_transform(rating_df), index=rating_df.index, columns=rating_df.columns) # scale the ratings and rating counts\n",
    "  #scaled_df\n",
    "    scaled_df[\"hybrid\"] = scaled_df['rating'] + scaled_df['rating_count'] # add up rating and rating count for each mivie\n",
    "    sort_rate = pd.DataFrame(scaled_df[\"hybrid\"].sort_values(ascending=False))\n",
    "    pattern = '\\((\\d{4})\\)'\n",
    "    recommend1 = sort_rate.merge(rating_df.merge(movies, how='left', left_index=True, right_on=\"movieId\"), how='left', left_index=True, right_index=True)\n",
    "    recommend1['year'] = movies.title.str.extract(pattern, expand=False)\n",
    "    recommend2 = recommend1.dropna()\n",
    "    recommender3 = recommend2.loc[recommend2.genres.str.contains(genre)] \n",
    "    recommender3['year'] = recommender3['year'].astype(int)\n",
    "    recommender4 = recommender3.loc[(recommender3[\"year\"] >= year-5) & (recommender3[\"year\"] <= year+5)]\n",
    "    return pd.DataFrame(recommender4['title']).set_index('title').head(n_output)"
   ]
  },
  {
   "cell_type": "code",
   "execution_count": 8,
   "metadata": {
    "colab": {
     "base_uri": "https://localhost:8080/"
    },
    "id": "RJ9YoCfspQ5w",
    "outputId": "baeb9908-e60d-4a45-af65-5b25152768b2"
   },
   "outputs": [
    {
     "name": "stderr",
     "output_type": "stream",
     "text": [
      "C:\\Users\\Olia\\AppData\\Local\\Temp\\ipykernel_16284\\1552168700.py:15: SettingWithCopyWarning: \n",
      "A value is trying to be set on a copy of a slice from a DataFrame.\n",
      "Try using .loc[row_indexer,col_indexer] = value instead\n",
      "\n",
      "See the caveats in the documentation: https://pandas.pydata.org/pandas-docs/stable/user_guide/indexing.html#returning-a-view-versus-a-copy\n",
      "  recommender3['year'] = recommender3['year'].astype(int)\n"
     ]
    },
    {
     "data": {
      "text/html": [
       "<div>\n",
       "<style scoped>\n",
       "    .dataframe tbody tr th:only-of-type {\n",
       "        vertical-align: middle;\n",
       "    }\n",
       "\n",
       "    .dataframe tbody tr th {\n",
       "        vertical-align: top;\n",
       "    }\n",
       "\n",
       "    .dataframe thead th {\n",
       "        text-align: right;\n",
       "    }\n",
       "</style>\n",
       "<table border=\"1\" class=\"dataframe\">\n",
       "  <thead>\n",
       "    <tr style=\"text-align: right;\">\n",
       "      <th></th>\n",
       "    </tr>\n",
       "    <tr>\n",
       "      <th>title</th>\n",
       "    </tr>\n",
       "  </thead>\n",
       "  <tbody>\n",
       "    <tr>\n",
       "      <th>Billy Elliot (2000)</th>\n",
       "    </tr>\n",
       "    <tr>\n",
       "      <th>Last Dance (1996)</th>\n",
       "    </tr>\n",
       "    <tr>\n",
       "      <th>Career Girls (1997)</th>\n",
       "    </tr>\n",
       "    <tr>\n",
       "      <th>Autumn in New York (2000)</th>\n",
       "    </tr>\n",
       "    <tr>\n",
       "      <th>187 (One Eight Seven) (1997)</th>\n",
       "    </tr>\n",
       "    <tr>\n",
       "      <th>I Love You, I Love You Not (1996)</th>\n",
       "    </tr>\n",
       "    <tr>\n",
       "      <th>Spy Game (2001)</th>\n",
       "    </tr>\n",
       "    <tr>\n",
       "      <th>In the Company of Men (1997)</th>\n",
       "    </tr>\n",
       "    <tr>\n",
       "      <th>Soul Food (1997)</th>\n",
       "    </tr>\n",
       "    <tr>\n",
       "      <th>Selena (1997)</th>\n",
       "    </tr>\n",
       "  </tbody>\n",
       "</table>\n",
       "</div>"
      ],
      "text/plain": [
       "Empty DataFrame\n",
       "Columns: []\n",
       "Index: [Billy Elliot (2000), Last Dance (1996), Career Girls (1997), Autumn in New York (2000), 187 (One Eight Seven) (1997), I Love You, I Love You Not (1996), Spy Game (2001), In the Company of Men (1997), Soul Food (1997), Selena (1997)]"
      ]
     },
     "execution_count": 8,
     "metadata": {},
     "output_type": "execute_result"
    }
   ],
   "source": [
    "pop_rec(\"Drama\", 2001, 10)"
   ]
  },
  {
   "cell_type": "markdown",
   "metadata": {
    "id": "ecV2k6hOzsBu"
   },
   "source": [
    "##**Pictures**"
   ]
  },
  {
   "cell_type": "code",
   "execution_count": null,
   "metadata": {
    "colab": {
     "base_uri": "https://localhost:8080/"
    },
    "id": "RwJfoouj96QI",
    "outputId": "52cce575-3732-482d-99bf-ae9494e6f37b"
   },
   "outputs": [
    {
     "data": {
      "text/plain": [
       "Index(['Billy Elliot (2000)', 'Last Dance (1996)', 'Career Girls (1997)',\n",
       "       'Autumn in New York (2000)', '187 (One Eight Seven) (1997)',\n",
       "       'I Love You, I Love You Not (1996)', 'Spy Game (2001)',\n",
       "       'In the Company of Men (1997)', 'Soul Food (1997)', 'Selena (1997)'],\n",
       "      dtype='object', name='title')"
      ]
     },
     "execution_count": 7,
     "metadata": {},
     "output_type": "execute_result"
    }
   ],
   "source": [
    "df.index#[0]"
   ]
  },
  {
   "cell_type": "code",
   "execution_count": null,
   "metadata": {
    "colab": {
     "base_uri": "https://localhost:8080/"
    },
    "id": "wa06mC5Ezqnq",
    "outputId": "2fa315f0-d6c2-40cb-c713-672443714c57"
   },
   "outputs": [
    {
     "data": {
      "text/plain": [
       "[('Billy Elliot (2000)',\n",
       "  'https://m.media-amazon.com/images/M/MV5BNGY3NWYwNzctNWU5Yi00ZjljLTgyNDgtZjNhZjRlNjc0ZTU1XkEyXkFqcGdeQXVyMTQxNzMzNDI@._V1_QL75_UX380_CR0,0,380,562_.jpg'),\n",
       " ('Last Dance (1996)',\n",
       "  'https://m.media-amazon.com/images/M/MV5BMjAyN2EwNzAtZjQ4NS00NTQ3LWE1MzctYmIwOTA4Nzc2ZGZhXkEyXkFqcGdeQXVyNjQ2MjQ5NzM@._V1_QL75_UY562_CR1,0,380,562_.jpg'),\n",
       " ('Career Girls (1997)',\n",
       "  'https://m.media-amazon.com/images/M/MV5BNzZiNzNjOGItNzVlZC00MGU0LTgyMDItZGJjZTFiOTZmZDU2XkEyXkFqcGdeQXVyMTAwMzUyOTc@._V1_QL75_UX380_CR0,3,380,562_.jpg'),\n",
       " ('Autumn in New York (2000)',\n",
       "  'https://m.media-amazon.com/images/M/MV5BMWFlM2VmYTUtZmFmMC00N2Y1LWE3NmUtYWI5MWZiMTY3NDRiXkEyXkFqcGdeQXVyMTQxNzMzNDI@._V1_QL75_UY562_CR1,0,380,562_.jpg'),\n",
       " ('187 (One Eight Seven) (1997)',\n",
       "  'https://m.media-amazon.com/images/M/MV5BYTc1MTUxNmYtY2I3My00MmNkLWI3NmUtMDc1YWNhMzBiMDQzXkEyXkFqcGdeQXVyNjU0NTI0Nw@@._V1_QL75_UY562_CR1,0,380,562_.jpg'),\n",
       " ('I Love You, I Love You Not (1996)',\n",
       "  'https://m.media-amazon.com/images/M/MV5BYTdmZDM0NWQtNTc1My00MGEyLWEzYzctY2E1NDY1ZjQwNzRhXkEyXkFqcGdeQXVyMjUzOTY1NTc@._V1_QL75_UX380_CR0,1,380,562_.jpg'),\n",
       " ('Spy Game (2001)',\n",
       "  'https://m.media-amazon.com/images/M/MV5BNjNhOGZkNzktMGU3NC00ODk2LWE4NjctZTliN2JjZTQxZmIxXkEyXkFqcGdeQXVyNDk3NzU2MTQ@._V1_QL75_UY562_CR1,0,380,562_.jpg'),\n",
       " ('In the Company of Men (1997)',\n",
       "  'https://m.media-amazon.com/images/M/MV5BYmFiZTI1MDUtNGYyMi00ZTRkLWE1Y2UtZWY0ZDZiZTBiMjRmXkEyXkFqcGdeQXVyMTAwMzUyOTc@._V1_QL75_UX380_CR0,1,380,562_.jpg'),\n",
       " ('Soul Food (1997)',\n",
       "  'https://m.media-amazon.com/images/M/MV5BMTA1ODE4N2EtM2Q0MS00MTA4LTg2ZTctYWNjMTY2NzYxYmE0XkEyXkFqcGdeQXVyNzUwMjYzMjA@._V1_QL75_UX380_CR0,0,380,562_.jpg'),\n",
       " ('Selena (1997)',\n",
       "  'https://m.media-amazon.com/images/M/MV5BZGE0Y2RlNmQtZDY0Ni00Njk5LWFiZWUtMzc5N2VlZTBhOGE5L2ltYWdlL2ltYWdlXkEyXkFqcGdeQXVyMTQxNzMzNDI@._V1_QL75_UX380_CR0,2,380,562_.jpg')]"
      ]
     },
     "execution_count": 10,
     "metadata": {},
     "output_type": "execute_result"
    }
   ],
   "source": [
    "posters_list = []\n",
    "for i in df.index:\n",
    "    link = mp.get_poster(title= i)\n",
    "    title_postlink = i, link\n",
    "    posters_list.append(title_postlink)\n",
    "posters_list  "
   ]
  },
  {
   "cell_type": "markdown",
   "metadata": {
    "id": "MaL8kGLwvduo"
   },
   "source": [
    "##Items correlation"
   ]
  },
  {
   "cell_type": "code",
   "execution_count": null,
   "metadata": {
    "colab": {
     "base_uri": "https://localhost:8080/",
     "height": 455
    },
    "id": "9olYsiloP4AV",
    "outputId": "9bc1a41f-3a03-451c-b617-ed71796839fc"
   },
   "outputs": [
    {
     "data": {
      "text/html": [
       "\n",
       "  <div id=\"df-0d9d0154-2e63-4e24-ae42-620047f33639\">\n",
       "    <div class=\"colab-df-container\">\n",
       "      <div>\n",
       "<style scoped>\n",
       "    .dataframe tbody tr th:only-of-type {\n",
       "        vertical-align: middle;\n",
       "    }\n",
       "\n",
       "    .dataframe tbody tr th {\n",
       "        vertical-align: top;\n",
       "    }\n",
       "\n",
       "    .dataframe thead th {\n",
       "        text-align: right;\n",
       "    }\n",
       "</style>\n",
       "<table border=\"1\" class=\"dataframe\">\n",
       "  <thead>\n",
       "    <tr style=\"text-align: right;\">\n",
       "      <th>movieId</th>\n",
       "      <th>1</th>\n",
       "      <th>2</th>\n",
       "      <th>3</th>\n",
       "      <th>4</th>\n",
       "      <th>5</th>\n",
       "      <th>6</th>\n",
       "      <th>7</th>\n",
       "      <th>8</th>\n",
       "      <th>9</th>\n",
       "      <th>10</th>\n",
       "      <th>...</th>\n",
       "      <th>193565</th>\n",
       "      <th>193567</th>\n",
       "      <th>193571</th>\n",
       "      <th>193573</th>\n",
       "      <th>193579</th>\n",
       "      <th>193581</th>\n",
       "      <th>193583</th>\n",
       "      <th>193585</th>\n",
       "      <th>193587</th>\n",
       "      <th>193609</th>\n",
       "    </tr>\n",
       "    <tr>\n",
       "      <th>userId</th>\n",
       "      <th></th>\n",
       "      <th></th>\n",
       "      <th></th>\n",
       "      <th></th>\n",
       "      <th></th>\n",
       "      <th></th>\n",
       "      <th></th>\n",
       "      <th></th>\n",
       "      <th></th>\n",
       "      <th></th>\n",
       "      <th></th>\n",
       "      <th></th>\n",
       "      <th></th>\n",
       "      <th></th>\n",
       "      <th></th>\n",
       "      <th></th>\n",
       "      <th></th>\n",
       "      <th></th>\n",
       "      <th></th>\n",
       "      <th></th>\n",
       "      <th></th>\n",
       "    </tr>\n",
       "  </thead>\n",
       "  <tbody>\n",
       "    <tr>\n",
       "      <th>1</th>\n",
       "      <td>4.0</td>\n",
       "      <td>NaN</td>\n",
       "      <td>4.0</td>\n",
       "      <td>NaN</td>\n",
       "      <td>NaN</td>\n",
       "      <td>4.0</td>\n",
       "      <td>NaN</td>\n",
       "      <td>NaN</td>\n",
       "      <td>NaN</td>\n",
       "      <td>NaN</td>\n",
       "      <td>...</td>\n",
       "      <td>NaN</td>\n",
       "      <td>NaN</td>\n",
       "      <td>NaN</td>\n",
       "      <td>NaN</td>\n",
       "      <td>NaN</td>\n",
       "      <td>NaN</td>\n",
       "      <td>NaN</td>\n",
       "      <td>NaN</td>\n",
       "      <td>NaN</td>\n",
       "      <td>NaN</td>\n",
       "    </tr>\n",
       "    <tr>\n",
       "      <th>2</th>\n",
       "      <td>NaN</td>\n",
       "      <td>NaN</td>\n",
       "      <td>NaN</td>\n",
       "      <td>NaN</td>\n",
       "      <td>NaN</td>\n",
       "      <td>NaN</td>\n",
       "      <td>NaN</td>\n",
       "      <td>NaN</td>\n",
       "      <td>NaN</td>\n",
       "      <td>NaN</td>\n",
       "      <td>...</td>\n",
       "      <td>NaN</td>\n",
       "      <td>NaN</td>\n",
       "      <td>NaN</td>\n",
       "      <td>NaN</td>\n",
       "      <td>NaN</td>\n",
       "      <td>NaN</td>\n",
       "      <td>NaN</td>\n",
       "      <td>NaN</td>\n",
       "      <td>NaN</td>\n",
       "      <td>NaN</td>\n",
       "    </tr>\n",
       "    <tr>\n",
       "      <th>3</th>\n",
       "      <td>NaN</td>\n",
       "      <td>NaN</td>\n",
       "      <td>NaN</td>\n",
       "      <td>NaN</td>\n",
       "      <td>NaN</td>\n",
       "      <td>NaN</td>\n",
       "      <td>NaN</td>\n",
       "      <td>NaN</td>\n",
       "      <td>NaN</td>\n",
       "      <td>NaN</td>\n",
       "      <td>...</td>\n",
       "      <td>NaN</td>\n",
       "      <td>NaN</td>\n",
       "      <td>NaN</td>\n",
       "      <td>NaN</td>\n",
       "      <td>NaN</td>\n",
       "      <td>NaN</td>\n",
       "      <td>NaN</td>\n",
       "      <td>NaN</td>\n",
       "      <td>NaN</td>\n",
       "      <td>NaN</td>\n",
       "    </tr>\n",
       "    <tr>\n",
       "      <th>4</th>\n",
       "      <td>NaN</td>\n",
       "      <td>NaN</td>\n",
       "      <td>NaN</td>\n",
       "      <td>NaN</td>\n",
       "      <td>NaN</td>\n",
       "      <td>NaN</td>\n",
       "      <td>NaN</td>\n",
       "      <td>NaN</td>\n",
       "      <td>NaN</td>\n",
       "      <td>NaN</td>\n",
       "      <td>...</td>\n",
       "      <td>NaN</td>\n",
       "      <td>NaN</td>\n",
       "      <td>NaN</td>\n",
       "      <td>NaN</td>\n",
       "      <td>NaN</td>\n",
       "      <td>NaN</td>\n",
       "      <td>NaN</td>\n",
       "      <td>NaN</td>\n",
       "      <td>NaN</td>\n",
       "      <td>NaN</td>\n",
       "    </tr>\n",
       "    <tr>\n",
       "      <th>5</th>\n",
       "      <td>4.0</td>\n",
       "      <td>NaN</td>\n",
       "      <td>NaN</td>\n",
       "      <td>NaN</td>\n",
       "      <td>NaN</td>\n",
       "      <td>NaN</td>\n",
       "      <td>NaN</td>\n",
       "      <td>NaN</td>\n",
       "      <td>NaN</td>\n",
       "      <td>NaN</td>\n",
       "      <td>...</td>\n",
       "      <td>NaN</td>\n",
       "      <td>NaN</td>\n",
       "      <td>NaN</td>\n",
       "      <td>NaN</td>\n",
       "      <td>NaN</td>\n",
       "      <td>NaN</td>\n",
       "      <td>NaN</td>\n",
       "      <td>NaN</td>\n",
       "      <td>NaN</td>\n",
       "      <td>NaN</td>\n",
       "    </tr>\n",
       "    <tr>\n",
       "      <th>...</th>\n",
       "      <td>...</td>\n",
       "      <td>...</td>\n",
       "      <td>...</td>\n",
       "      <td>...</td>\n",
       "      <td>...</td>\n",
       "      <td>...</td>\n",
       "      <td>...</td>\n",
       "      <td>...</td>\n",
       "      <td>...</td>\n",
       "      <td>...</td>\n",
       "      <td>...</td>\n",
       "      <td>...</td>\n",
       "      <td>...</td>\n",
       "      <td>...</td>\n",
       "      <td>...</td>\n",
       "      <td>...</td>\n",
       "      <td>...</td>\n",
       "      <td>...</td>\n",
       "      <td>...</td>\n",
       "      <td>...</td>\n",
       "      <td>...</td>\n",
       "    </tr>\n",
       "    <tr>\n",
       "      <th>606</th>\n",
       "      <td>2.5</td>\n",
       "      <td>NaN</td>\n",
       "      <td>NaN</td>\n",
       "      <td>NaN</td>\n",
       "      <td>NaN</td>\n",
       "      <td>NaN</td>\n",
       "      <td>2.5</td>\n",
       "      <td>NaN</td>\n",
       "      <td>NaN</td>\n",
       "      <td>NaN</td>\n",
       "      <td>...</td>\n",
       "      <td>NaN</td>\n",
       "      <td>NaN</td>\n",
       "      <td>NaN</td>\n",
       "      <td>NaN</td>\n",
       "      <td>NaN</td>\n",
       "      <td>NaN</td>\n",
       "      <td>NaN</td>\n",
       "      <td>NaN</td>\n",
       "      <td>NaN</td>\n",
       "      <td>NaN</td>\n",
       "    </tr>\n",
       "    <tr>\n",
       "      <th>607</th>\n",
       "      <td>4.0</td>\n",
       "      <td>NaN</td>\n",
       "      <td>NaN</td>\n",
       "      <td>NaN</td>\n",
       "      <td>NaN</td>\n",
       "      <td>NaN</td>\n",
       "      <td>NaN</td>\n",
       "      <td>NaN</td>\n",
       "      <td>NaN</td>\n",
       "      <td>NaN</td>\n",
       "      <td>...</td>\n",
       "      <td>NaN</td>\n",
       "      <td>NaN</td>\n",
       "      <td>NaN</td>\n",
       "      <td>NaN</td>\n",
       "      <td>NaN</td>\n",
       "      <td>NaN</td>\n",
       "      <td>NaN</td>\n",
       "      <td>NaN</td>\n",
       "      <td>NaN</td>\n",
       "      <td>NaN</td>\n",
       "    </tr>\n",
       "    <tr>\n",
       "      <th>608</th>\n",
       "      <td>2.5</td>\n",
       "      <td>2.0</td>\n",
       "      <td>2.0</td>\n",
       "      <td>NaN</td>\n",
       "      <td>NaN</td>\n",
       "      <td>NaN</td>\n",
       "      <td>NaN</td>\n",
       "      <td>NaN</td>\n",
       "      <td>NaN</td>\n",
       "      <td>4.0</td>\n",
       "      <td>...</td>\n",
       "      <td>NaN</td>\n",
       "      <td>NaN</td>\n",
       "      <td>NaN</td>\n",
       "      <td>NaN</td>\n",
       "      <td>NaN</td>\n",
       "      <td>NaN</td>\n",
       "      <td>NaN</td>\n",
       "      <td>NaN</td>\n",
       "      <td>NaN</td>\n",
       "      <td>NaN</td>\n",
       "    </tr>\n",
       "    <tr>\n",
       "      <th>609</th>\n",
       "      <td>3.0</td>\n",
       "      <td>NaN</td>\n",
       "      <td>NaN</td>\n",
       "      <td>NaN</td>\n",
       "      <td>NaN</td>\n",
       "      <td>NaN</td>\n",
       "      <td>NaN</td>\n",
       "      <td>NaN</td>\n",
       "      <td>NaN</td>\n",
       "      <td>4.0</td>\n",
       "      <td>...</td>\n",
       "      <td>NaN</td>\n",
       "      <td>NaN</td>\n",
       "      <td>NaN</td>\n",
       "      <td>NaN</td>\n",
       "      <td>NaN</td>\n",
       "      <td>NaN</td>\n",
       "      <td>NaN</td>\n",
       "      <td>NaN</td>\n",
       "      <td>NaN</td>\n",
       "      <td>NaN</td>\n",
       "    </tr>\n",
       "    <tr>\n",
       "      <th>610</th>\n",
       "      <td>5.0</td>\n",
       "      <td>NaN</td>\n",
       "      <td>NaN</td>\n",
       "      <td>NaN</td>\n",
       "      <td>NaN</td>\n",
       "      <td>5.0</td>\n",
       "      <td>NaN</td>\n",
       "      <td>NaN</td>\n",
       "      <td>NaN</td>\n",
       "      <td>NaN</td>\n",
       "      <td>...</td>\n",
       "      <td>NaN</td>\n",
       "      <td>NaN</td>\n",
       "      <td>NaN</td>\n",
       "      <td>NaN</td>\n",
       "      <td>NaN</td>\n",
       "      <td>NaN</td>\n",
       "      <td>NaN</td>\n",
       "      <td>NaN</td>\n",
       "      <td>NaN</td>\n",
       "      <td>NaN</td>\n",
       "    </tr>\n",
       "  </tbody>\n",
       "</table>\n",
       "<p>610 rows × 9724 columns</p>\n",
       "</div>\n",
       "      <button class=\"colab-df-convert\" onclick=\"convertToInteractive('df-0d9d0154-2e63-4e24-ae42-620047f33639')\"\n",
       "              title=\"Convert this dataframe to an interactive table.\"\n",
       "              style=\"display:none;\">\n",
       "        \n",
       "  <svg xmlns=\"http://www.w3.org/2000/svg\" height=\"24px\"viewBox=\"0 0 24 24\"\n",
       "       width=\"24px\">\n",
       "    <path d=\"M0 0h24v24H0V0z\" fill=\"none\"/>\n",
       "    <path d=\"M18.56 5.44l.94 2.06.94-2.06 2.06-.94-2.06-.94-.94-2.06-.94 2.06-2.06.94zm-11 1L8.5 8.5l.94-2.06 2.06-.94-2.06-.94L8.5 2.5l-.94 2.06-2.06.94zm10 10l.94 2.06.94-2.06 2.06-.94-2.06-.94-.94-2.06-.94 2.06-2.06.94z\"/><path d=\"M17.41 7.96l-1.37-1.37c-.4-.4-.92-.59-1.43-.59-.52 0-1.04.2-1.43.59L10.3 9.45l-7.72 7.72c-.78.78-.78 2.05 0 2.83L4 21.41c.39.39.9.59 1.41.59.51 0 1.02-.2 1.41-.59l7.78-7.78 2.81-2.81c.8-.78.8-2.07 0-2.86zM5.41 20L4 18.59l7.72-7.72 1.47 1.35L5.41 20z\"/>\n",
       "  </svg>\n",
       "      </button>\n",
       "      \n",
       "  <style>\n",
       "    .colab-df-container {\n",
       "      display:flex;\n",
       "      flex-wrap:wrap;\n",
       "      gap: 12px;\n",
       "    }\n",
       "\n",
       "    .colab-df-convert {\n",
       "      background-color: #E8F0FE;\n",
       "      border: none;\n",
       "      border-radius: 50%;\n",
       "      cursor: pointer;\n",
       "      display: none;\n",
       "      fill: #1967D2;\n",
       "      height: 32px;\n",
       "      padding: 0 0 0 0;\n",
       "      width: 32px;\n",
       "    }\n",
       "\n",
       "    .colab-df-convert:hover {\n",
       "      background-color: #E2EBFA;\n",
       "      box-shadow: 0px 1px 2px rgba(60, 64, 67, 0.3), 0px 1px 3px 1px rgba(60, 64, 67, 0.15);\n",
       "      fill: #174EA6;\n",
       "    }\n",
       "\n",
       "    [theme=dark] .colab-df-convert {\n",
       "      background-color: #3B4455;\n",
       "      fill: #D2E3FC;\n",
       "    }\n",
       "\n",
       "    [theme=dark] .colab-df-convert:hover {\n",
       "      background-color: #434B5C;\n",
       "      box-shadow: 0px 1px 3px 1px rgba(0, 0, 0, 0.15);\n",
       "      filter: drop-shadow(0px 1px 2px rgba(0, 0, 0, 0.3));\n",
       "      fill: #FFFFFF;\n",
       "    }\n",
       "  </style>\n",
       "\n",
       "      <script>\n",
       "        const buttonEl =\n",
       "          document.querySelector('#df-0d9d0154-2e63-4e24-ae42-620047f33639 button.colab-df-convert');\n",
       "        buttonEl.style.display =\n",
       "          google.colab.kernel.accessAllowed ? 'block' : 'none';\n",
       "\n",
       "        async function convertToInteractive(key) {\n",
       "          const element = document.querySelector('#df-0d9d0154-2e63-4e24-ae42-620047f33639');\n",
       "          const dataTable =\n",
       "            await google.colab.kernel.invokeFunction('convertToInteractive',\n",
       "                                                     [key], {});\n",
       "          if (!dataTable) return;\n",
       "\n",
       "          const docLinkHtml = 'Like what you see? Visit the ' +\n",
       "            '<a target=\"_blank\" href=https://colab.research.google.com/notebooks/data_table.ipynb>data table notebook</a>'\n",
       "            + ' to learn more about interactive tables.';\n",
       "          element.innerHTML = '';\n",
       "          dataTable['output_type'] = 'display_data';\n",
       "          await google.colab.output.renderOutput(dataTable, element);\n",
       "          const docLink = document.createElement('div');\n",
       "          docLink.innerHTML = docLinkHtml;\n",
       "          element.appendChild(docLink);\n",
       "        }\n",
       "      </script>\n",
       "    </div>\n",
       "  </div>\n",
       "  "
      ],
      "text/plain": [
       "movieId  1       2       3       4       5       6       7       8       \\\n",
       "userId                                                                    \n",
       "1           4.0     NaN     4.0     NaN     NaN     4.0     NaN     NaN   \n",
       "2           NaN     NaN     NaN     NaN     NaN     NaN     NaN     NaN   \n",
       "3           NaN     NaN     NaN     NaN     NaN     NaN     NaN     NaN   \n",
       "4           NaN     NaN     NaN     NaN     NaN     NaN     NaN     NaN   \n",
       "5           4.0     NaN     NaN     NaN     NaN     NaN     NaN     NaN   \n",
       "...         ...     ...     ...     ...     ...     ...     ...     ...   \n",
       "606         2.5     NaN     NaN     NaN     NaN     NaN     2.5     NaN   \n",
       "607         4.0     NaN     NaN     NaN     NaN     NaN     NaN     NaN   \n",
       "608         2.5     2.0     2.0     NaN     NaN     NaN     NaN     NaN   \n",
       "609         3.0     NaN     NaN     NaN     NaN     NaN     NaN     NaN   \n",
       "610         5.0     NaN     NaN     NaN     NaN     5.0     NaN     NaN   \n",
       "\n",
       "movieId  9       10      ...  193565  193567  193571  193573  193579  193581  \\\n",
       "userId                   ...                                                   \n",
       "1           NaN     NaN  ...     NaN     NaN     NaN     NaN     NaN     NaN   \n",
       "2           NaN     NaN  ...     NaN     NaN     NaN     NaN     NaN     NaN   \n",
       "3           NaN     NaN  ...     NaN     NaN     NaN     NaN     NaN     NaN   \n",
       "4           NaN     NaN  ...     NaN     NaN     NaN     NaN     NaN     NaN   \n",
       "5           NaN     NaN  ...     NaN     NaN     NaN     NaN     NaN     NaN   \n",
       "...         ...     ...  ...     ...     ...     ...     ...     ...     ...   \n",
       "606         NaN     NaN  ...     NaN     NaN     NaN     NaN     NaN     NaN   \n",
       "607         NaN     NaN  ...     NaN     NaN     NaN     NaN     NaN     NaN   \n",
       "608         NaN     4.0  ...     NaN     NaN     NaN     NaN     NaN     NaN   \n",
       "609         NaN     4.0  ...     NaN     NaN     NaN     NaN     NaN     NaN   \n",
       "610         NaN     NaN  ...     NaN     NaN     NaN     NaN     NaN     NaN   \n",
       "\n",
       "movieId  193583  193585  193587  193609  \n",
       "userId                                   \n",
       "1           NaN     NaN     NaN     NaN  \n",
       "2           NaN     NaN     NaN     NaN  \n",
       "3           NaN     NaN     NaN     NaN  \n",
       "4           NaN     NaN     NaN     NaN  \n",
       "5           NaN     NaN     NaN     NaN  \n",
       "...         ...     ...     ...     ...  \n",
       "606         NaN     NaN     NaN     NaN  \n",
       "607         NaN     NaN     NaN     NaN  \n",
       "608         NaN     NaN     NaN     NaN  \n",
       "609         NaN     NaN     NaN     NaN  \n",
       "610         NaN     NaN     NaN     NaN  \n",
       "\n",
       "[610 rows x 9724 columns]"
      ]
     },
     "execution_count": 16,
     "metadata": {},
     "output_type": "execute_result"
    }
   ],
   "source": [
    "rating_pivot = pd.pivot_table(ratings, values = 'rating', columns = 'movieId', index = 'userId')\n",
    "rating_pivot"
   ]
  },
  {
   "cell_type": "code",
   "execution_count": null,
   "metadata": {
    "id": "4Oq_E14VRzLq"
   },
   "outputs": [],
   "source": [
    "def recom_m(n, m):\n",
    "    rating_pivot = pd.pivot_table(ratings, values = 'rating', columns = 'movieId', index = 'userId')\n",
    "    correl_df = rating_pivot.corrwith(rating_pivot[n]) #correlation between the target item and all other items\n",
    "    correl_df = pd.DataFrame(correl_df.sort_values(ascending=False)) #convert the Series of the correlation to a dataframe and sort it to have top items with the highest correlations\n",
    "    correl_df1 = correl_df.merge(pd.DataFrame(movies[[\"movieId\", \"title\"]]), on=\"movieId\", how=\"left\") #get names of the items\n",
    "    correl_df1.dropna(inplace=True) #drop nulls\n",
    "    rating_count = pd.DataFrame(ratings.groupby('movieId')['rating'].mean()) #create a dataframe fore the count of the ratings\n",
    "    rating_count['rating_count'] = ratings.groupby('movieId')['rating'].count() #get the count of the rating to exclude items that are rated only few times\n",
    "    rating_count.drop(1, inplace=True) #drop the target item itself from the df\n",
    "    movie_corr_summary = correl_df1.join(rating_count['rating_count']) #join raitings with rating count\n",
    "    top10 = movie_corr_summary[movie_corr_summary['rating_count']>=10].sort_values(0, ascending=False) #dropping items that are rated less than 10 times\n",
    "\n",
    "    return top10.head(m)"
   ]
  },
  {
   "cell_type": "code",
   "execution_count": null,
   "metadata": {
    "colab": {
     "base_uri": "https://localhost:8080/",
     "height": 432
    },
    "id": "Lk2ZbvAZQMgG",
    "outputId": "8e8ff3f3-e004-4971-88cb-9e28a36a38d4"
   },
   "outputs": [
    {
     "name": "stderr",
     "output_type": "stream",
     "text": [
      "/usr/local/lib/python3.9/dist-packages/numpy/lib/function_base.py:2821: RuntimeWarning: Degrees of freedom <= 0 for slice\n",
      "  c = cov(x, y, rowvar, dtype=dtype)\n",
      "/usr/local/lib/python3.9/dist-packages/numpy/lib/function_base.py:2680: RuntimeWarning: divide by zero encountered in true_divide\n",
      "  c *= np.true_divide(1, fact)\n"
     ]
    },
    {
     "data": {
      "text/html": [
       "\n",
       "  <div id=\"df-d910714b-2621-4477-b908-aac219ad8300\">\n",
       "    <div class=\"colab-df-container\">\n",
       "      <div>\n",
       "<style scoped>\n",
       "    .dataframe tbody tr th:only-of-type {\n",
       "        vertical-align: middle;\n",
       "    }\n",
       "\n",
       "    .dataframe tbody tr th {\n",
       "        vertical-align: top;\n",
       "    }\n",
       "\n",
       "    .dataframe thead th {\n",
       "        text-align: right;\n",
       "    }\n",
       "</style>\n",
       "<table border=\"1\" class=\"dataframe\">\n",
       "  <thead>\n",
       "    <tr style=\"text-align: right;\">\n",
       "      <th></th>\n",
       "      <th>movieId</th>\n",
       "      <th>0</th>\n",
       "      <th>title</th>\n",
       "      <th>rating_count</th>\n",
       "    </tr>\n",
       "  </thead>\n",
       "  <tbody>\n",
       "    <tr>\n",
       "      <th>2</th>\n",
       "      <td>64249</td>\n",
       "      <td>1.0</td>\n",
       "      <td>Shrek the Halls (2007)</td>\n",
       "      <td>110.0</td>\n",
       "    </tr>\n",
       "    <tr>\n",
       "      <th>52</th>\n",
       "      <td>4210</td>\n",
       "      <td>1.0</td>\n",
       "      <td>Manhunter (1986)</td>\n",
       "      <td>28.0</td>\n",
       "    </tr>\n",
       "    <tr>\n",
       "      <th>97</th>\n",
       "      <td>104419</td>\n",
       "      <td>1.0</td>\n",
       "      <td>Justice League: Crisis on Two Earths (2010)</td>\n",
       "      <td>10.0</td>\n",
       "    </tr>\n",
       "    <tr>\n",
       "      <th>95</th>\n",
       "      <td>106438</td>\n",
       "      <td>1.0</td>\n",
       "      <td>Philomena (2013)</td>\n",
       "      <td>84.0</td>\n",
       "    </tr>\n",
       "    <tr>\n",
       "      <th>94</th>\n",
       "      <td>7255</td>\n",
       "      <td>1.0</td>\n",
       "      <td>Win a Date with Tad Hamilton! (2004)</td>\n",
       "      <td>10.0</td>\n",
       "    </tr>\n",
       "    <tr>\n",
       "      <th>89</th>\n",
       "      <td>117590</td>\n",
       "      <td>1.0</td>\n",
       "      <td>Horrible Bosses 2 (2014)</td>\n",
       "      <td>10.0</td>\n",
       "    </tr>\n",
       "    <tr>\n",
       "      <th>88</th>\n",
       "      <td>1791</td>\n",
       "      <td>1.0</td>\n",
       "      <td>Twilight (1998)</td>\n",
       "      <td>16.0</td>\n",
       "    </tr>\n",
       "    <tr>\n",
       "      <th>86</th>\n",
       "      <td>6265</td>\n",
       "      <td>1.0</td>\n",
       "      <td>Head of State (2003)</td>\n",
       "      <td>15.0</td>\n",
       "    </tr>\n",
       "    <tr>\n",
       "      <th>81</th>\n",
       "      <td>32213</td>\n",
       "      <td>1.0</td>\n",
       "      <td>Cube Zero (2004)</td>\n",
       "      <td>14.0</td>\n",
       "    </tr>\n",
       "    <tr>\n",
       "      <th>79</th>\n",
       "      <td>47970</td>\n",
       "      <td>1.0</td>\n",
       "      <td>Last Kiss, The (2006)</td>\n",
       "      <td>17.0</td>\n",
       "    </tr>\n",
       "  </tbody>\n",
       "</table>\n",
       "</div>\n",
       "      <button class=\"colab-df-convert\" onclick=\"convertToInteractive('df-d910714b-2621-4477-b908-aac219ad8300')\"\n",
       "              title=\"Convert this dataframe to an interactive table.\"\n",
       "              style=\"display:none;\">\n",
       "        \n",
       "  <svg xmlns=\"http://www.w3.org/2000/svg\" height=\"24px\"viewBox=\"0 0 24 24\"\n",
       "       width=\"24px\">\n",
       "    <path d=\"M0 0h24v24H0V0z\" fill=\"none\"/>\n",
       "    <path d=\"M18.56 5.44l.94 2.06.94-2.06 2.06-.94-2.06-.94-.94-2.06-.94 2.06-2.06.94zm-11 1L8.5 8.5l.94-2.06 2.06-.94-2.06-.94L8.5 2.5l-.94 2.06-2.06.94zm10 10l.94 2.06.94-2.06 2.06-.94-2.06-.94-.94-2.06-.94 2.06-2.06.94z\"/><path d=\"M17.41 7.96l-1.37-1.37c-.4-.4-.92-.59-1.43-.59-.52 0-1.04.2-1.43.59L10.3 9.45l-7.72 7.72c-.78.78-.78 2.05 0 2.83L4 21.41c.39.39.9.59 1.41.59.51 0 1.02-.2 1.41-.59l7.78-7.78 2.81-2.81c.8-.78.8-2.07 0-2.86zM5.41 20L4 18.59l7.72-7.72 1.47 1.35L5.41 20z\"/>\n",
       "  </svg>\n",
       "      </button>\n",
       "      \n",
       "  <style>\n",
       "    .colab-df-container {\n",
       "      display:flex;\n",
       "      flex-wrap:wrap;\n",
       "      gap: 12px;\n",
       "    }\n",
       "\n",
       "    .colab-df-convert {\n",
       "      background-color: #E8F0FE;\n",
       "      border: none;\n",
       "      border-radius: 50%;\n",
       "      cursor: pointer;\n",
       "      display: none;\n",
       "      fill: #1967D2;\n",
       "      height: 32px;\n",
       "      padding: 0 0 0 0;\n",
       "      width: 32px;\n",
       "    }\n",
       "\n",
       "    .colab-df-convert:hover {\n",
       "      background-color: #E2EBFA;\n",
       "      box-shadow: 0px 1px 2px rgba(60, 64, 67, 0.3), 0px 1px 3px 1px rgba(60, 64, 67, 0.15);\n",
       "      fill: #174EA6;\n",
       "    }\n",
       "\n",
       "    [theme=dark] .colab-df-convert {\n",
       "      background-color: #3B4455;\n",
       "      fill: #D2E3FC;\n",
       "    }\n",
       "\n",
       "    [theme=dark] .colab-df-convert:hover {\n",
       "      background-color: #434B5C;\n",
       "      box-shadow: 0px 1px 3px 1px rgba(0, 0, 0, 0.15);\n",
       "      filter: drop-shadow(0px 1px 2px rgba(0, 0, 0, 0.3));\n",
       "      fill: #FFFFFF;\n",
       "    }\n",
       "  </style>\n",
       "\n",
       "      <script>\n",
       "        const buttonEl =\n",
       "          document.querySelector('#df-d910714b-2621-4477-b908-aac219ad8300 button.colab-df-convert');\n",
       "        buttonEl.style.display =\n",
       "          google.colab.kernel.accessAllowed ? 'block' : 'none';\n",
       "\n",
       "        async function convertToInteractive(key) {\n",
       "          const element = document.querySelector('#df-d910714b-2621-4477-b908-aac219ad8300');\n",
       "          const dataTable =\n",
       "            await google.colab.kernel.invokeFunction('convertToInteractive',\n",
       "                                                     [key], {});\n",
       "          if (!dataTable) return;\n",
       "\n",
       "          const docLinkHtml = 'Like what you see? Visit the ' +\n",
       "            '<a target=\"_blank\" href=https://colab.research.google.com/notebooks/data_table.ipynb>data table notebook</a>'\n",
       "            + ' to learn more about interactive tables.';\n",
       "          element.innerHTML = '';\n",
       "          dataTable['output_type'] = 'display_data';\n",
       "          await google.colab.output.renderOutput(dataTable, element);\n",
       "          const docLink = document.createElement('div');\n",
       "          docLink.innerHTML = docLinkHtml;\n",
       "          element.appendChild(docLink);\n",
       "        }\n",
       "      </script>\n",
       "    </div>\n",
       "  </div>\n",
       "  "
      ],
      "text/plain": [
       "    movieId    0                                        title  rating_count\n",
       "2     64249  1.0                       Shrek the Halls (2007)         110.0\n",
       "52     4210  1.0                             Manhunter (1986)          28.0\n",
       "97   104419  1.0  Justice League: Crisis on Two Earths (2010)          10.0\n",
       "95   106438  1.0                             Philomena (2013)          84.0\n",
       "94     7255  1.0         Win a Date with Tad Hamilton! (2004)          10.0\n",
       "89   117590  1.0                     Horrible Bosses 2 (2014)          10.0\n",
       "88     1791  1.0                              Twilight (1998)          16.0\n",
       "86     6265  1.0                         Head of State (2003)          15.0\n",
       "81    32213  1.0                             Cube Zero (2004)          14.0\n",
       "79    47970  1.0                        Last Kiss, The (2006)          17.0"
      ]
     },
     "execution_count": 18,
     "metadata": {},
     "output_type": "execute_result"
    }
   ],
   "source": [
    "recom_m(10, 10)"
   ]
  },
  {
   "cell_type": "markdown",
   "metadata": {
    "id": "IjOQH7V1Qopq"
   },
   "source": [
    "###Line by line code"
   ]
  },
  {
   "cell_type": "code",
   "execution_count": null,
   "metadata": {
    "id": "4JtdKNW45YtS"
   },
   "outputs": [],
   "source": [
    "rating_count = pd.DataFrame(ratings.groupby('movieId')['rating'].mean())\n",
    "rating_count['rating_count'] = ratings.groupby('movieId')['rating'].count()\n",
    "rating_count"
   ]
  },
  {
   "cell_type": "code",
   "execution_count": null,
   "metadata": {
    "id": "H6_b3VDyLV6f"
   },
   "outputs": [],
   "source": [
    "rating_count.drop(1, inplace=True)\n"
   ]
  },
  {
   "cell_type": "code",
   "execution_count": null,
   "metadata": {
    "id": "Cw0uUA_6Kaur"
   },
   "outputs": [],
   "source": [
    "movie_corr_summary = correl_df1.join(rating_count['rating_count'])\n",
    "movie_corr_summary"
   ]
  },
  {
   "cell_type": "code",
   "execution_count": null,
   "metadata": {
    "id": "ARlxJX8p_Atr"
   },
   "outputs": [],
   "source": [
    "top10 = movie_corr_summary[movie_corr_summary['rating_count']>=10].sort_values(0, ascending=False).head(10)\n",
    "top10"
   ]
  },
  {
   "cell_type": "markdown",
   "metadata": {
    "id": "5hmDb6kmalnZ"
   },
   "source": [
    "##Personalised one\n",
    "###Function"
   ]
  },
  {
   "cell_type": "code",
   "execution_count": null,
   "metadata": {
    "id": "GzJnbTOOB_xC"
   },
   "outputs": [],
   "source": [
    "def user_based_rec(userId, num_rec_items):\n",
    "    \n",
    "    rating_pivot = pd.pivot_table(ratings, values = 'rating', columns = 'movieId', index = 'userId') # create a pivot table\n",
    "    users_items.fillna(0, inplace=True) # filling/replacing NaNs with 0\n",
    "    user_similarities = pd.DataFrame(cosine_similarity(users_items), # compute cosine similarities\n",
    "                                 columns=users_items.index, \n",
    "                                 index=users_items.index)\n",
    "    user_Id = userId\n",
    "    weights = (user_similarities.query(\"userId!=@user_Id\")[user_Id] / sum(user_similarities.query(\"userId!=@user_Id\")[user_Id])) # compute users' weights\n",
    "    not_watched_movies = users_items.loc[users_items.index!=user_Id, users_items.loc[user_Id,:]==0] # select movies that the target user has not watched\n",
    "    weighted_averages = pd.DataFrame(not_watched_movies.T.dot(weights), columns=[\"predicted_rating\"]) # dot product between the not-watched-movies and the weights\n",
    "    recommendations = weighted_averages.merge(movies, left_index=True, right_on=\"movieId\")\n",
    "    return recommendations.sort_values(\"predicted_rating\", ascending=False).head(num_rec_items)\n"
   ]
  },
  {
   "cell_type": "code",
   "execution_count": null,
   "metadata": {
    "id": "l1CRPHOCGJrB"
   },
   "outputs": [],
   "source": [
    "user_based_rec(61,10)"
   ]
  },
  {
   "cell_type": "markdown",
   "metadata": {
    "id": "UNUOgKl2HlSx"
   },
   "source": [
    "###Line by line code"
   ]
  },
  {
   "cell_type": "code",
   "execution_count": null,
   "metadata": {
    "id": "7ESOQ_lmak4h"
   },
   "outputs": [],
   "source": [
    "#create a pivot table(this was already done above)\n",
    "#rating_pivot = pd.pivot_table(ratings_1, values = 'rating', columns = 'movieId', index = 'userId')\n",
    "users_items = rating_pivot.copy()\n",
    "rating_pivot[18].sort_values() #we don't have 0 in our rating system, so we can use it as a filler for NaNs"
   ]
  },
  {
   "cell_type": "code",
   "execution_count": null,
   "metadata": {
    "id": "qSHntggZ6ZMX"
   },
   "outputs": [],
   "source": [
    "#filling/replacing NaNs with 0\n",
    "users_items.fillna(0, inplace=True)\n",
    "users_items.head()"
   ]
  },
  {
   "cell_type": "code",
   "execution_count": null,
   "metadata": {
    "id": "By9vCbDh7uWl"
   },
   "outputs": [],
   "source": [
    "#Compute cosine similarities\n",
    "from sklearn.metrics.pairwise import cosine_similarity\n",
    "\n",
    "user_similarities = pd.DataFrame(cosine_similarity(users_items),\n",
    "                                 columns=users_items.index, \n",
    "                                 index=users_items.index)\n",
    "user_similarities.head()"
   ]
  },
  {
   "cell_type": "code",
   "execution_count": null,
   "metadata": {
    "id": "AGsj1wi48P8c"
   },
   "outputs": [],
   "source": [
    "#Compute the weights\n",
    "user_id = 1\n",
    "weights = (user_similarities.query(\"userId!=@user_id\")[user_id] / sum(user_similarities.query(\"userId!=@user_id\")[user_id]))\n",
    "weights.head(6)"
   ]
  },
  {
   "cell_type": "code",
   "execution_count": null,
   "metadata": {
    "id": "LY9UCD6-9yUL"
   },
   "outputs": [],
   "source": [
    "weights.sum()"
   ]
  },
  {
   "cell_type": "code",
   "execution_count": null,
   "metadata": {
    "id": "C43Zcoo290SA"
   },
   "outputs": [],
   "source": [
    "#Find items that the target user has not rated.\n",
    "#Exclude the user, not to include him on the weights.\n",
    "users_items.loc[user_id,:]==0"
   ]
  },
  {
   "cell_type": "code",
   "execution_count": null,
   "metadata": {
    "id": "Ykqmdqdu-YS6"
   },
   "outputs": [],
   "source": [
    "# select itemss that the target user has not visited\n",
    "not_visited_restaurants = users_items.loc[users_items.index!=user_id, users_items.loc[user_id,:]==0]\n",
    "not_visited_restaurants.T"
   ]
  },
  {
   "cell_type": "code",
   "execution_count": null,
   "metadata": {
    "id": "xwb-s5LN-8Fi"
   },
   "outputs": [],
   "source": [
    "# dot product between the not-visited-restaurants and the weights\n",
    "weighted_averages = pd.DataFrame(not_visited_restaurants.T.dot(weights), columns=[\"predicted_rating\"])\n",
    "weighted_averages.head()"
   ]
  },
  {
   "cell_type": "code",
   "execution_count": null,
   "metadata": {
    "id": "C-ehlq-G_Ici"
   },
   "outputs": [],
   "source": [
    "recommendations = weighted_averages.merge(movies, left_index=True, right_on=\"movieId\")\n",
    "recommendations.sort_values(\"predicted_rating\", ascending=False).head()"
   ]
  }
 ],
 "metadata": {
  "colab": {
   "collapsed_sections": [
    "MaL8kGLwvduo",
    "IjOQH7V1Qopq",
    "5hmDb6kmalnZ",
    "UNUOgKl2HlSx"
   ],
   "provenance": []
  },
  "kernelspec": {
   "display_name": "Python 3 (ipykernel)",
   "language": "python",
   "name": "python3"
  },
  "language_info": {
   "codemirror_mode": {
    "name": "ipython",
    "version": 3
   },
   "file_extension": ".py",
   "mimetype": "text/x-python",
   "name": "python",
   "nbconvert_exporter": "python",
   "pygments_lexer": "ipython3",
   "version": "3.9.12"
  }
 },
 "nbformat": 4,
 "nbformat_minor": 4
}
